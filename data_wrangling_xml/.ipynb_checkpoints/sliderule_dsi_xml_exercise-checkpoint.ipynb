{
 "cells": [
  {
   "cell_type": "markdown",
   "metadata": {},
   "source": [
    "# XML example and exercise\n",
    "****\n",
    "+ study examples of accessing nodes in XML tree structure  \n",
    "+ work on exercise to be completed and submitted\n",
    "****\n",
    "+ reference: https://docs.python.org/2.7/library/xml.etree.elementtree.html\n",
    "+ data source: http://www.dbis.informatik.uni-goettingen.de/Mondial\n",
    "****"
   ]
  },
  {
   "cell_type": "code",
   "execution_count": 1,
   "metadata": {
    "collapsed": true
   },
   "outputs": [],
   "source": [
    "from xml.etree import ElementTree as ET"
   ]
  },
  {
   "cell_type": "markdown",
   "metadata": {},
   "source": [
    "## XML example\n",
    "\n",
    "+ for details about tree traversal and iterators, see https://docs.python.org/2.7/library/xml.etree.elementtree.html"
   ]
  },
  {
   "cell_type": "code",
   "execution_count": 2,
   "metadata": {
    "collapsed": true
   },
   "outputs": [],
   "source": [
    "document_tree = ET.parse( './data/mondial_database_less.xml' )"
   ]
  },
  {
   "cell_type": "code",
   "execution_count": 3,
   "metadata": {
    "collapsed": false
   },
   "outputs": [
    {
     "ename": "AttributeError",
     "evalue": "'module' object has no attribute 'phone_home'",
     "output_type": "error",
     "traceback": [
      "\u001b[0;31m---------------------------------------------------------------------------\u001b[0m",
      "\u001b[0;31mAttributeError\u001b[0m                            Traceback (most recent call last)",
      "\u001b[0;32m<ipython-input-3-13cd38aea08b>\u001b[0m in \u001b[0;36m<module>\u001b[0;34m()\u001b[0m\n\u001b[0;32m----> 1\u001b[0;31m \u001b[0mET\u001b[0m\u001b[0;34m.\u001b[0m\u001b[0mphone_home\u001b[0m\u001b[0;34m(\u001b[0m\u001b[0;34m)\u001b[0m \u001b[0;31m# ok, come on, I really had to. You can't call it ET and expect me not to try to do that...\u001b[0m\u001b[0;34m\u001b[0m\u001b[0m\n\u001b[0m",
      "\u001b[0;31mAttributeError\u001b[0m: 'module' object has no attribute 'phone_home'"
     ]
    }
   ],
   "source": [
    "ET.phone_home() # ok, come on, I really had to. You can't call it ET and expect me not to try to do that..."
   ]
  },
  {
   "cell_type": "code",
   "execution_count": 4,
   "metadata": {
    "collapsed": false
   },
   "outputs": [
    {
     "name": "stdout",
     "output_type": "stream",
     "text": [
      "Albania\n",
      "Greece\n",
      "Macedonia\n",
      "Serbia\n",
      "Montenegro\n",
      "Kosovo\n",
      "Andorra\n"
     ]
    }
   ],
   "source": [
    "# print names of all countries\n",
    "for child in document_tree.getroot():\n",
    "    print child.find('name').text"
   ]
  },
  {
   "cell_type": "code",
   "execution_count": 5,
   "metadata": {
    "collapsed": false
   },
   "outputs": [
    {
     "name": "stdout",
     "output_type": "stream",
     "text": [
      "* Albania: Tirana, Shkodër, Durrës, Vlorë, Elbasan, Korçë\n",
      "* Greece: Komotini, Kavala, Athina, Peiraias, Peristeri, Acharnes, Patra, Kozani, Kerkyra, Ioannina, Thessaloniki, Iraklio, Chania, Ermoupoli, Rhodes, Tripoli, Lamia, Chalkida, Larissa, Volos, Mytilini, Karyes\n",
      "* Macedonia: Skopje, Kumanovo\n",
      "* Serbia: Beograd, Novi Sad, Niš\n",
      "* Montenegro: Podgorica\n",
      "* Kosovo: Prishtine\n",
      "* Andorra: Andorra la Vella\n"
     ]
    }
   ],
   "source": [
    "# print names of all countries and their cities\n",
    "for element in document_tree.iterfind('country'):\n",
    "    print '* ' + element.find('name').text + ':',\n",
    "    capitals_string = ''\n",
    "    for subelement in element.getiterator('city'):\n",
    "        capitals_string += subelement.find('name').text + ', '\n",
    "    print capitals_string[:-2]"
   ]
  },
  {
   "cell_type": "markdown",
   "metadata": {},
   "source": [
    "****\n",
    "## XML exercise\n",
    "\n",
    "Using data in 'data/mondial_database.xml', the examples above, and refering to https://docs.python.org/2.7/library/xml.etree.elementtree.html, find\n",
    "\n",
    "1. 10 countries with the lowest infant mortality rates\n",
    "2. 10 cities with the largest population\n",
    "3. 10 ethnic groups with the largest overall populations (sum of best/latest estimates over all countries)\n",
    "4. name and country of a) longest river, b) largest lake and c) airport at highest elevation"
   ]
  },
  {
   "cell_type": "code",
   "execution_count": 6,
   "metadata": {
    "collapsed": true
   },
   "outputs": [],
   "source": [
    "document = ET.parse( './data/mondial_database.xml' )"
   ]
  },
  {
   "cell_type": "code",
   "execution_count": 7,
   "metadata": {
    "collapsed": false
   },
   "outputs": [],
   "source": [
    "mondial_root = document.getroot()"
   ]
  },
  {
   "cell_type": "code",
   "execution_count": 8,
   "metadata": {
    "collapsed": false
   },
   "outputs": [
    {
     "name": "stdout",
     "output_type": "stream",
     "text": [
      "country"
     ]
    },
    {
     "ename": "KeyError",
     "evalue": "'name'",
     "output_type": "error",
     "traceback": [
      "\u001b[0;31m---------------------------------------------------------------------------\u001b[0m",
      "\u001b[0;31mKeyError\u001b[0m                                  Traceback (most recent call last)",
      "\u001b[0;32m<ipython-input-8-efcd35e26d6a>\u001b[0m in \u001b[0;36m<module>\u001b[0;34m()\u001b[0m\n\u001b[1;32m      1\u001b[0m \u001b[0;32mfor\u001b[0m \u001b[0mi\u001b[0m\u001b[0;34m,\u001b[0m \u001b[0mchild\u001b[0m \u001b[0;32min\u001b[0m \u001b[0mzip\u001b[0m\u001b[0;34m(\u001b[0m\u001b[0mrange\u001b[0m\u001b[0;34m(\u001b[0m\u001b[0;36m10\u001b[0m\u001b[0;34m)\u001b[0m\u001b[0;34m,\u001b[0m\u001b[0mmondial_root\u001b[0m\u001b[0;34m)\u001b[0m\u001b[0;34m:\u001b[0m \u001b[0;31m# I need to visualize this tree\u001b[0m\u001b[0;34m\u001b[0m\u001b[0m\n\u001b[0;32m----> 2\u001b[0;31m     \u001b[0;32mprint\u001b[0m \u001b[0mchild\u001b[0m\u001b[0;34m.\u001b[0m\u001b[0mtag\u001b[0m\u001b[0;34m,\u001b[0m \u001b[0mchild\u001b[0m\u001b[0;34m.\u001b[0m\u001b[0mattrib\u001b[0m\u001b[0;34m[\u001b[0m\u001b[0;34m'name'\u001b[0m\u001b[0;34m]\u001b[0m\u001b[0;34m\u001b[0m\u001b[0m\n\u001b[0m",
      "\u001b[0;31mKeyError\u001b[0m: 'name'"
     ]
    }
   ],
   "source": [
    "for i, child in zip(range(10),mondial_root): # I need to visualize this tree\n",
    "    print child.tag, child.attrib['name'] "
   ]
  },
  {
   "cell_type": "code",
   "execution_count": 9,
   "metadata": {
    "collapsed": false
   },
   "outputs": [
    {
     "name": "stdout",
     "output_type": "stream",
     "text": [
      " country: Albania\n",
      "Attribs: {'memberships': 'org-BSEC org-CEI org-CD org-SELEC org-CE org-EAPC org-EBRD org-EITI org-FAO org-IPU org-IAEA org-IBRD org-ICC org-ICAO org-ICCt org-Interpol org-IDA org-IFRCS org-IFC org-IFAD org-ILO org-IMO org-IMF org-IOC org-IOM org-ISO org-OIF org-ITU org-ITUC org-IDB org-MIGA org-NATO org-OSCE org-OPCW org-OAS org-OIC org-PCA org-UN org-UNCTAD org-UNESCO org-UNIDO org-UPU org-WCO org-WFTU org-WHO org-WIPO org-WMO org-UNWTO org-WTO', 'area': '28750', 'car_code': 'AL', 'capital': 'cty-Albania-Tirane'}\n",
      "country: Greece\n",
      "Attribs: {'memberships': 'org-AG org-BIS org-BSEC org-CD org-SELEC org-CE org-EMU org-EAPC org-EBRD org-ECB org-EIB org-CERN org-ESA org-EU org-FATF org-FAO org-IGAD org-IPU org-IAEA org-IBRD org-ICC org-ICAO org-ICJ org-ICCt org-Interpol org-IDA org-IEA org-IFRCS org-IFC org-IFAD org-IHO org-ILO org-IMO org-IMSO org-IMF org-IOC org-IOM org-OIF org-ITSO org-ITU org-ITUC org-MIGA org-NATO org-NEA org-NSG org-OECD org-OSCE org-OPCW org-OAS org-PCA org-UN org-UNCTAD org-UNESCO org-UNHCR org-UNIDO org-UNIFIL org-UPU org-WCO org-WFTU org-WHO org-WIPO org-WMO org-UNWTO org-WTO org-ZC', 'area': '131940', 'car_code': 'GR', 'capital': 'cty-Greece-Athens'}\n",
      "country: Macedonia\n",
      "Attribs: {'memberships': 'org-BIS org-CEI org-CD org-SELEC org-CE org-EAPC org-EBRD org-EU org-FAO org-IPU org-IAEA org-IBRD org-ICC org-ICAO org-ICCt org-Interpol org-IDA org-IFRCS org-IFC org-IFAD org-ILO org-IMO org-IMF org-IOC org-IOM org-OIF org-ITU org-ITUC org-MIGA org-OSCE org-OPCW org-OAS org-PFP org-PCA org-UN org-UNCTAD org-UNESCO org-UNHCR org-UNIDO org-UNIFIL org-UPU org-WCO org-WHO org-WIPO org-WMO org-UNWTO org-WTO', 'area': '25333', 'car_code': 'MK', 'capital': 'cty-Macedonia-Skopje'}\n",
      "country: Serbia\n",
      "Attribs: {'memberships': 'org-BIS org-BSEC org-CEI org-CD org-SELEC org-CE org-EAPC org-EBRD org-EU org-FAO org-G-9 org-IPU org-IAEA org-IBRD org-ICC org-ICAO org-ICCt org-Interpol org-IDA org-IFRCS org-IFC org-IHO org-ILO org-IMO org-IMSO org-IMF org-IOC org-IOM org-OIF org-ITSO org-ITU org-ITUC org-MIGA org-NAM org-NSG org-OSCE org-OPCW org-OAS org-PFP org-PCA org-UN org-UNCTAD org-UNESCO org-UNHCR org-UNIDO org-UNIFIL org-UNMIL org-UNOCI org-MONUSCO org-UNFICYP org-UNTSO org-UPU org-WCO org-WHO org-WIPO org-WMO org-UNWTO org-WTO', 'area': '77474', 'car_code': 'SRB', 'capital': 'city-Belgrade-SRB-SRB'}\n",
      "country: Montenegro\n",
      "Attribs: {'memberships': 'org-CEI org-CD org-SELEC org-CE org-EAPC org-EBRD org-EU org-FAO org-IPU org-IAEA org-IBRD org-ICC org-ICAO org-ICCt org-Interpol org-IDA org-IFRCS org-IFC org-IHO org-ILO org-IMO org-IMSO org-IMF org-IOC org-IOM org-ISO org-OIF org-ITSO org-ITU org-ITUC org-MIGA org-NAM org-OSCE org-OPCW org-PFP org-PCA org-UN org-UNCTAD org-UNESCO org-UNHCR org-UNIDO org-UNMIL org-UPU org-WCO org-WHO org-WIPO org-WMO org-UNWTO org-WTO', 'area': '14026', 'car_code': 'MNE', 'capital': 'city-Podgorica-MNE-MNE'}\n",
      "country: Kosovo\n",
      "Attribs: {'memberships': 'org-CD org-EBRD org-IBRD org-IDA org-IFC org-IMF org-ITUC', 'area': '10887', 'car_code': 'KOS', 'capital': 'city-Pristina-KOS-KOS'}\n",
      "country: Andorra\n",
      "Attribs: {'memberships': 'org-CE org-FAO org-IPU org-ICC org-ICAO org-ICCt org-Interpol org-IFRCS org-IOC org-OIF org-ITU org-OSCE org-OPCW org-UN org-UNCTAD org-UNESCO org-WCO org-WHO org-WIPO org-UNWTO org-WTO', 'area': '450', 'car_code': 'AND', 'capital': 'cty-Andorra-Andorra-la-Vella'}\n",
      "country: France\n",
      "Attribs: {'memberships': 'org-AfDB org-ADB org-AG org-BIS org-BSEC org-BDEAC org-SICA org-SELEC org-CE org-CBSS org-EMU org-EAPC org-EBRD org-ECB org-EIB org-CERN org-ESA org-EU org-EITI org-FATF org-FAO org-FZ org-G-10 org-G-20 org-G-5 org-G-7 org-G-8 org-InOC org-IADB org-IGAD org-IPU org-IAEA org-IBRD org-ICC org-ICAO org-ICCt org-Interpol org-IDA org-IEA org-IFRCS org-IFC org-IFAD org-IHO org-ILO org-IMO org-IMSO org-IMF org-IOC org-IOM org-OIF org-ITSO org-ITU org-ITUC org-MIGA org-NATO org-NEA org-NSG org-OECD org-OSCE org-OPCW org-OAS org-PIF org-PCA org-SPC org-UN org-UNCTAD org-UNESCO org-UNHCR org-UNIDO org-UNIFIL org-MINURSO org-UNMIL org-UNOCI org-MONUSCO org-UNRWA org-UNSC org-UNTSO org-UPU org-WCO org-WFTU org-WHO org-WIPO org-WMO org-UNWTO org-WTO org-ZC', 'area': '547030', 'car_code': 'F', 'capital': 'cty-France-Paris'}\n",
      "country: Spain\n",
      "Attribs: {'memberships': 'org-AfDB org-CAN org-ADB org-AG org-BIS org-BCIE org-SICA org-CD org-SELEC org-CE org-CBSS org-EMU org-EAPC org-EBRD org-ECB org-EIB org-CERN org-ESA org-EU org-EITI org-FATF org-FAO org-IADB org-IPU org-IAEA org-IBRD org-ICC org-ICAO org-ICJ org-ICCt org-Interpol org-IDA org-IEA org-IFRCS org-IFC org-IFAD org-IHO org-ILO org-IMO org-IMSO org-IMF org-IOC org-IOM org-ITSO org-ITU org-ITUC org-LAIA org-MIGA org-NATO org-NEA org-NSG org-OECD org-OSCE org-OPCW org-OAS org-PCA org-UN org-UNCTAD org-UNESCO org-UNHCR org-UNIDO org-UNIFIL org-UNRWA org-UPU org-WCO org-WHO org-WIPO org-WMO org-UNWTO org-WTO org-ZC', 'area': '504750', 'car_code': 'E', 'capital': 'cty-Spain-Madrid'}\n",
      "country: Austria\n",
      "Attribs: {'memberships': 'org-AfDB org-ADB org-AG org-BIS org-BSEC org-CEI org-CD org-SELEC org-CE org-EMU org-EAPC org-EBRD org-ECB org-EIB org-CERN org-ESA org-EU org-FATF org-FAO org-G-9 org-IADB org-IGAD org-IPU org-IAEA org-IBRD org-ICC org-ICAO org-ICJ org-ICCt org-Interpol org-IDA org-IEA org-IFRCS org-IFC org-ILO org-IMO org-IMF org-IOC org-IOM org-OIF org-ITSO org-ITU org-ITUC org-MIGA org-NEA org-NSG org-OECD org-OSCE org-OPCW org-OAS org-PFP org-PCA org-UN org-UNCTAD org-UNESCO org-UNHCR org-UNIDO org-UNIFIL org-MINURSO org-UNFICYP org-UNTSO org-UPU org-WCO org-WFTU org-WHO org-WIPO org-WMO org-UNWTO org-WTO org-ZC', 'area': '83850', 'car_code': 'A', 'capital': 'cty-Austria-Vienna'}\n"
     ]
    }
   ],
   "source": [
    "for i, child in zip(range(10),mondial_root): # attrib is inside the tag, names are separate tags in the body\n",
    "    print child.tag + ': ' + child.find('name').text + '\\n' + 'Attribs:',  child.attrib"
   ]
  },
  {
   "cell_type": "code",
   "execution_count": 22,
   "metadata": {
    "collapsed": false
   },
   "outputs": [
    {
     "name": "stdout",
     "output_type": "stream",
     "text": [
      "country: Albania (AL)\n",
      "Independence Date: 1912-11-28, from: Ottoman Empire\n",
      "country: Greece (GR)\n",
      "Independence Date: 1829-01-01, from: Ottoman Empire\n",
      "country: Macedonia (MK)\n",
      "Independence Date: 1991-09-17, from: Yugoslavia\n",
      "country: Serbia (SRB)\n",
      "Independence Date: 1992-04-11, from: Yugoslavia\n",
      "country: Montenegro (MNE)\n",
      "Independence Date: 2006-06-03, from: SRB\n",
      "country: Kosovo (KOS)\n",
      "Independence Date: 2008-02-17, from: SRB\n",
      "country: Andorra (AND)\n",
      "Independence Date: 1278-09-08, from: \n",
      "country: France (F)\n",
      "Independence Date: None\n",
      "country: Spain (E)\n",
      "Independence Date: 1492-01-01, from: \n",
      "country: Austria (A)\n",
      "Independence Date: 1918-11-12, from: Austria-Hungary\n",
      "country: Czech Republic (CZ)\n",
      "Independence Date: 1993-01-01, from: Czechoslovakia\n",
      "country: Germany (D)\n",
      "Independence Date: 1871-01-18, from: \n",
      "country: Hungary (H)\n",
      "Independence Date: 1918-11-18, from: Austria-Hungary\n",
      "country: Italy (I)\n",
      "Independence Date: 1861-03-17, from: \n",
      "country: Liechtenstein (FL)\n",
      "Independence Date: 1806-07-12, from: Holy Roman Empire\n",
      "country: Slovakia (SK)\n",
      "Independence Date: 1993-01-01, from: Czechoslovakia\n",
      "country: Slovenia (SLO)\n",
      "Independence Date: 1991-06-25, from: Yugoslavia\n",
      "country: Switzerland (CH)\n",
      "Independence Date: 1291-01-01, from: \n",
      "country: Belarus (BY)\n",
      "Independence Date: 1991-08-25, from: Soviet Union\n",
      "country: Latvia (LV)\n",
      "Independence Date: 1991-09-06, from: Soviet Union\n",
      "country: Lithuania (LT)\n",
      "Independence Date: 1991-09-06, from: Soviet Union\n",
      "country: Poland (PL)\n",
      "Independence Date: 1918-11-11, from: \n",
      "country: Ukraine (UA)\n",
      "Independence Date: 1991-12-01, from: Soviet Union\n",
      "country: Russia (R)\n",
      "Independence Date: 1991-08-24, from: Soviet Union\n",
      "country: Belgium (B)\n",
      "Independence Date: 1830-10-04, from: NL\n",
      "country: Luxembourg (L)\n",
      "Independence Date: 1890-11-24, from: NL\n",
      "country: Netherlands (NL)\n",
      "Independence Date: 1579-01-01, from: E\n",
      "country: Bosnia and Herzegovina (BIH)\n",
      "Independence Date: 1992-04-01, from: Yugoslavia\n",
      "country: Croatia (HR)\n",
      "Independence Date: 1991-06-25, from: Yugoslavia\n",
      "country: Bulgaria (BG)\n",
      "Independence Date: 1908-09-22, from: Ottoman Empire\n",
      "country: Romania (RO)\n",
      "Independence Date: 1877-05-09, from: Ottoman Empire\n",
      "country: Turkey (TR)\n",
      "Independence Date: 1923-10-29, from: Ottoman Empire\n",
      "country: Denmark (DK)\n",
      "Independence Date: None\n",
      "country: Estonia (EW)\n",
      "Independence Date: 1991-09-06, from: Soviet Union\n",
      "country: Faroe Islands (FARX)\n",
      "Independence Date: None\n",
      "country: Finland (SF)\n",
      "Independence Date: 1917-12-06, from: R\n",
      "country: Norway (N)\n",
      "Independence Date: 1905-10-26, from: S\n",
      "country: Sweden (S)\n",
      "Independence Date: None\n",
      "country: Monaco (MC)\n",
      "Independence Date: 1419-01-01, from: \n",
      "country: Gibraltar (GBZ)\n",
      "Independence Date: None\n",
      "country: Guernsey (GBG)\n",
      "Independence Date: None\n",
      "country: Holy See (V)\n",
      "Independence Date: 1929-02-11, from: I\n",
      "country: Ceuta (CEU)\n",
      "Independence Date: None\n",
      "country: Melilla (MEL)\n",
      "Independence Date: None\n",
      "country: Iceland (IS)\n",
      "Independence Date: 1944-06-17, from: DK\n",
      "country: Ireland (IRL)\n",
      "Independence Date: 1921-12-06, from: GB\n",
      "country: San Marino (RSM)\n",
      "Independence Date: 0301-01-01, from: \n",
      "country: Jersey (GBJ)\n",
      "Independence Date: None\n",
      "country: Malta (M)\n",
      "Independence Date: 1964-09-21, from: GB\n",
      "country: Isle of Man (GBM)\n",
      "Independence Date: None\n",
      "country: Moldova (MD)\n",
      "Independence Date: 1991-08-27, from: Soviet Union\n",
      "country: Portugal (P)\n",
      "Independence Date: 1139-07-25, from: E\n",
      "country: Svalbard (SVAX)\n",
      "Independence Date: None\n",
      "country: United Kingdom (GB)\n",
      "Independence Date: 1801-01-01, from: \n",
      "country: Afghanistan (AFG)\n",
      "Independence Date: 1919-08-19, from: UK\n",
      "country: China (CN)\n",
      "Independence Date: None\n",
      "country: Iran (IR)\n",
      "Independence Date: None\n",
      "country: Pakistan (PK)\n",
      "Independence Date: 1947-08-14, from: GB\n",
      "country: Tajikistan (TAD)\n",
      "Independence Date: 1991-09-09, from: Soviet Union\n",
      "country: Turkmenistan (TM)\n",
      "Independence Date: 1991-10-27, from: Soviet Union\n",
      "country: Uzbekistan (UZB)\n",
      "Independence Date: 1991-08-31, from: Soviet Union\n",
      "country: Armenia (ARM)\n",
      "Independence Date: 1918-05-28, from: Soviet Union\n",
      "country: Georgia (GE)\n",
      "Independence Date: 1991-04-09, from: Soviet Union\n",
      "country: Azerbaijan (AZ)\n",
      "Independence Date: 1991-08-30, from: Soviet Union\n",
      "country: Bahrain (BRN)\n",
      "Independence Date: 1971-08-15, from: GB\n",
      "country: Bangladesh (BD)\n",
      "Independence Date: 1971-12-16, from: PAK\n",
      "country: Myanmar (MYA)\n",
      "Independence Date: 1948-01-04, from: UK\n",
      "country: India (IND)\n",
      "Independence Date: 1947-08-15, from: GB\n",
      "country: Bhutan (BHT)\n",
      "Independence Date: 1949-08-08, from: GB\n",
      "country: Brunei (BRU)\n",
      "Independence Date: 1984-01-01, from: GB\n",
      "country: Malaysia (MAL)\n",
      "Independence Date: 1957-08-31, from: GB\n",
      "country: Laos (LAO)\n",
      "Independence Date: 1949-07-19, from: F\n",
      "country: Thailand (THA)\n",
      "Independence Date: 1238-01-01, from: \n",
      "country: Cambodia (K)\n",
      "Independence Date: 1949-11-09, from: F\n",
      "country: Vietnam (VN)\n",
      "Independence Date: 1945-09-02, from: F\n",
      "country: Kazakhstan (KAZ)\n",
      "Independence Date: 1991-12-16, from: Soviet Union\n",
      "country: North Korea (NOK)\n",
      "Independence Date: 1945-08-15, from: J\n",
      "country: Kyrgyzstan (KGZ)\n",
      "Independence Date: 1991-08-31, from: Soviet Union\n",
      "country: Hong Kong (HONX)\n",
      "Independence Date: None\n",
      "country: Macao (MACX)\n",
      "Independence Date: None\n",
      "country: Mongolia (MNG)\n",
      "Independence Date: 1921-03-13, from: CN\n",
      "country: Nepal (NEP)\n",
      "Independence Date: 1768-01-01, from: \n",
      "country: Christmas Island (XMAS)\n",
      "Independence Date: None\n",
      "country: Cocos Islands (COCO)\n",
      "Independence Date: None\n",
      "country: Cyprus (CY)\n",
      "Independence Date: 1960-08-16, from: GB\n",
      "country: Gaza Strip (GAZA)\n",
      "Independence Date: None\n",
      "country: Israel (IL)\n",
      "Independence Date: 1948-05-14, from: United Nations\n",
      "country: Egypt (ET)\n",
      "Independence Date: 1922-02-28, from: GB\n",
      "country: Indonesia (RI)\n",
      "Independence Date: 1945-08-17, from: NL\n",
      "country: Timor-Leste (TL)\n",
      "Independence Date: 2002-05-20, from: RI\n",
      "country: Papua New Guinea (PNG)\n",
      "Independence Date: 1975-09-16, from: United Nations\n",
      "country: Iraq (IRQ)\n",
      "Independence Date: 1932-10-03, from: United Nations\n",
      "country: Jordan (JOR)\n",
      "Independence Date: 1946-05-25, from: United Nations\n",
      "country: Kuwait (KWT)\n",
      "Independence Date: 1961-06-19, from: GB\n",
      "country: Saudi Arabia (SA)\n",
      "Independence Date: 1932-09-23, from: \n",
      "country: Syria (SYR)\n",
      "Independence Date: 1946-04-17, from: United Nations\n",
      "country: Lebanon (RL)\n",
      "Independence Date: 1943-11-22, from: United Nations\n",
      "country: West Bank (WEST)\n",
      "Independence Date: None\n",
      "country: Japan (J)\n",
      "Independence Date: None\n",
      "country: South Korea (ROK)\n",
      "Independence Date: 1945-08-15, from: J\n",
      "country: Maldives (MV)\n",
      "Independence Date: 1965-07-26, from: GB\n",
      "country: Oman (OM)\n",
      "Independence Date: 1650-01-01, from: P\n",
      "country: United Arab Emirates (UAE)\n",
      "Independence Date: 1971-12-02, from: GB\n",
      "country: Yemen (YE)\n",
      "Independence Date: 1990-05-22, from: Merger of North/South Yemen\n",
      "country: Philippines (RP)\n",
      "Independence Date: 1946-07-04, from: USA\n",
      "country: Qatar (Q)\n",
      "Independence Date: 1971-09-03, from: GB\n",
      "country: Singapore (SGP)\n",
      "Independence Date: 1965-08-09, from: MAL\n",
      "country: Sri Lanka (CL)\n",
      "Independence Date: 1948-02-04, from: GB\n",
      "country: Taiwan (RC)\n",
      "Independence Date: 1949-10-01, from: \n",
      "country: Anguilla (AXA)\n",
      "Independence Date: None\n",
      "country: Antigua and Barbuda (AG)\n",
      "Independence Date: 1981-11-01, from: GB\n",
      "country: Aruba (ARU)\n",
      "Independence Date: None\n",
      "country: Bahamas (BS)\n",
      "Independence Date: 1973-07-10, from: GB\n",
      "country: Barbados (BDS)\n",
      "Independence Date: 1966-11-30, from: GB\n",
      "country: Belize (BZ)\n",
      "Independence Date: 1981-09-21, from: GB\n",
      "country: Guatemala (GCA)\n",
      "Independence Date: 1821-09-15, from: E\n",
      "country: Mexico (MEX)\n",
      "Independence Date: 1810-09-16, from: E\n",
      "country: Bermuda (BERM)\n",
      "Independence Date: None\n",
      "country: British Virgin Islands (BVIR)\n",
      "Independence Date: None\n",
      "country: Canada (CDN)\n",
      "Independence Date: 1867-07-01, from: GB\n",
      "country: United States (USA)\n",
      "Independence Date: 1776-07-04, from: GB\n",
      "country: Cayman Islands (CAYM)\n",
      "Independence Date: None\n",
      "country: Costa Rica (CR)\n",
      "Independence Date: 1821-09-15, from: E\n",
      "country: Nicaragua (NIC)\n",
      "Independence Date: 1821-09-15, from: E\n",
      "country: Panama (PA)\n",
      "Independence Date: 1903-11-03, from: CO\n",
      "country: Cuba (C)\n",
      "Independence Date: 1902-05-20, from: E\n",
      "country: Dominica (WD)\n",
      "Independence Date: 1978-11-03, from: GB\n",
      "country: Dominican Republic (DOM)\n",
      "Independence Date: 1844-02-27, from: RH\n",
      "country: Haiti (RH)\n",
      "Independence Date: 1804-01-01, from: F\n",
      "country: El Salvador (ES)\n",
      "Independence Date: 1821-09-15, from: E\n",
      "country: Honduras (HCA)\n",
      "Independence Date: 1821-09-15, from: E\n",
      "country: Greenland (GROX)\n",
      "Independence Date: None\n",
      "country: Grenada (WG)\n",
      "Independence Date: 1974-02-07, from: GB\n",
      "country: Guadeloupe (GUAD)\n",
      "Independence Date: None\n",
      "country: Jamaica (JA)\n",
      "Independence Date: 1962-08-06, from: GB\n",
      "country: Martinique (MART)\n",
      "Independence Date: None\n",
      "country: Montserrat (MNTS)\n",
      "Independence Date: None\n",
      "country: Curacao (CUR)\n",
      "Independence Date: None\n",
      "country: Sint Maarten (NLSM)\n",
      "Independence Date: None\n",
      "country: Saint Martin (SMAR)\n",
      "Independence Date: None\n",
      "country: Saint Barthelemy (SBAR)\n",
      "Independence Date: None\n",
      "country: Colombia (CO)\n",
      "Independence Date: 1810-07-20, from: E\n",
      "country: Puerto Rico (PR)\n",
      "Independence Date: None\n",
      "country: Saint Kitts and Nevis (KN)\n",
      "Independence Date: 1983-09-19, from: GB\n",
      "country: Saint Lucia (WL)\n",
      "Independence Date: 1979-02-22, from: GB\n",
      "country: Saint Pierre and Miquelon (SPMI)\n",
      "Independence Date: None\n",
      "country: Saint Vincent and the Grenadines (WV)\n",
      "Independence Date: 1979-10-27, from: GB\n",
      "country: Trinidad and Tobago (TT)\n",
      "Independence Date: 1962-08-31, from: GB\n",
      "country: Turks and Caicos Islands (TUCA)\n",
      "Independence Date: None\n",
      "country: Virgin Islands (VIRG)\n",
      "Independence Date: None\n",
      "country: American Samoa (AMSA)\n",
      "Independence Date: None\n",
      "country: Australia (AUS)\n",
      "Independence Date: 1901-01-01, from: GB\n",
      "country: Cook Islands (COOK)\n",
      "Independence Date: None\n",
      "country: Fiji (FJI)\n",
      "Independence Date: 1970-10-10, from: GB\n",
      "country: French Polynesia (FPOL)\n",
      "Independence Date: None\n",
      "country: Guam (GUAM)\n",
      "Independence Date: None\n",
      "country: Kiribati (KIR)\n",
      "Independence Date: 1979-07-12, from: GB\n",
      "country: Marshall Islands (MH)\n",
      "Independence Date: 1986-10-21, from: United Nations\n",
      "country: Micronesia (FSM)\n",
      "Independence Date: 1986-11-03, from: United Nations\n",
      "country: Nauru (NAU)\n",
      "Independence Date: 1968-01-31, from: United Nations\n",
      "country: New Caledonia (NCA)\n",
      "Independence Date: None\n",
      "country: New Zealand (NZ)\n",
      "Independence Date: 1907-09-26, from: GB\n",
      "country: Niue (NIUE)\n",
      "Independence Date: 1974-10-19, from: NZ\n",
      "country: Norfolk Island (NORF)\n",
      "Independence Date: None\n",
      "country: Northern Mariana Islands (NMIS)\n",
      "Independence Date: None\n",
      "country: Palau (PAL)\n",
      "Independence Date: 1994-10-01, from: United Nations\n",
      "country: Pitcairn (PITC)\n",
      "Independence Date: None\n",
      "country: Solomon Islands (SLB)\n",
      "Independence Date: 1978-07-07, from: GB\n",
      "country: Tonga (TO)\n",
      "Independence Date: 1970-06-04, from: GB\n",
      "country: Tuvalu (TUV)\n",
      "Independence Date: 1978-10-01, from: GB\n",
      "country: Tokelau (TOK)\n",
      "Independence Date: None\n",
      "country: Vanuatu (VU)\n",
      "Independence Date: 1980-07-30, from: F\n",
      "country: Wallis and Futuna (WAFU)\n",
      "Independence Date: None\n",
      "country: Samoa (WS)\n",
      "Independence Date: 1962-01-01, from: United Nations\n",
      "country: Argentina (RA)\n",
      "Independence Date: 1816-07-09, from: E\n",
      "country: Bolivia (BOL)\n",
      "Independence Date: 1825-08-06, from: E\n",
      "country: Brazil (BR)\n",
      "Independence Date: 1822-09-07, from: P\n",
      "country: Chile (RCH)\n",
      "Independence Date: 1810-09-18, from: E\n",
      "country: Paraguay (PY)\n",
      "Independence Date: 1811-05-14, from: E\n",
      "country: Uruguay (ROU)\n",
      "Independence Date: 1828-08-25, from: BR\n",
      "country: Peru (PE)\n",
      "Independence Date: 1821-07-28, from: E\n",
      "country: French Guiana (FGU)\n",
      "Independence Date: None\n",
      "country: Guyana (GUY)\n",
      "Independence Date: 1966-05-26, from: GB\n",
      "country: Suriname (SME)\n",
      "Independence Date: 1975-11-25, from: NL\n",
      "country: Venezuela (YV)\n",
      "Independence Date: 1811-07-05, from: E\n",
      "country: Ecuador (EC)\n",
      "Independence Date: 1822-05-24, from: E\n",
      "country: Falkland Islands (FALK)\n",
      "Independence Date: None\n",
      "country: Algeria (DZ)\n",
      "Independence Date: 1962-07-05, from: F\n",
      "country: Libya (LAR)\n",
      "Independence Date: 1951-12-24, from: I\n",
      "country: Mali (RMM)\n",
      "Independence Date: 1960-09-22, from: F\n",
      "country: Mauritania (RIM)\n",
      "Independence Date: 1960-11-28, from: F\n",
      "country: Morocco (MA)\n",
      "Independence Date: 1956-03-02, from: F\n",
      "country: Niger (RN)\n",
      "Independence Date: 1960-08-03, from: F\n",
      "country: Tunisia (TN)\n",
      "Independence Date: 1956-03-20, from: F\n",
      "country: Western Sahara (WSA)\n",
      "Independence Date: None\n",
      "country: Angola (ANG)\n",
      "Independence Date: 1975-11-11, from: P\n",
      "country: Congo (RCB)\n",
      "Independence Date: 1960-08-15, from: F\n",
      "country: Namibia (NAM)\n",
      "Independence Date: 1990-03-21, from: United Nations\n",
      "country: Zaire (ZRE)\n",
      "Independence Date: 1960-06-30, from: B\n",
      "country: Zambia (Z)\n",
      "Independence Date: 1964-10-24, from: GB\n",
      "country: Benin (BEN)\n",
      "Independence Date: 1960-08-01, from: F\n",
      "country: Burkina Faso (BF)\n",
      "Independence Date: 1960-08-05, from: F\n",
      "country: Nigeria (WAN)\n",
      "Independence Date: 1960-10-01, from: GB\n",
      "country: Togo (RT)\n",
      "Independence Date: 1960-04-27, from: F\n",
      "country: Botswana (RB)\n",
      "Independence Date: 1966-09-30, from: GB\n",
      "country: South Africa (RSA)\n",
      "Independence Date: 1910-05-31, from: GB\n",
      "country: Zimbabwe (ZW)\n",
      "Independence Date: 1980-04-18, from: GB\n",
      "country: Cote dIvoire (CI)\n",
      "Independence Date: 1960-08-07, from: F\n",
      "country: Ghana (GH)\n",
      "Independence Date: 1957-03-06, from: GB\n",
      "country: Burundi (BI)\n",
      "Independence Date: 1962-07-01, from: United Nations\n",
      "country: Rwanda (RWA)\n",
      "Independence Date: 1962-07-01, from: United Nations\n",
      "country: Tanzania (EAT)\n",
      "Independence Date: 1964-04-26, from: GB\n",
      "country: Cameroon (CAM)\n",
      "Independence Date: 1960-01-01, from: United Nations\n",
      "country: Central African Republic (RCA)\n",
      "Independence Date: 1960-08-13, from: F\n",
      "country: Chad (TCH)\n",
      "Independence Date: 1960-08-11, from: F\n",
      "country: Equatorial Guinea (GQ)\n",
      "Independence Date: 1968-10-12, from: E\n",
      "country: Gabon (G)\n",
      "Independence Date: 1960-08-17, from: F\n",
      "country: Cape Verde (CV)\n",
      "Independence Date: 1975-07-05, from: P\n",
      "country: Sudan (SUD)\n",
      "Independence Date: 1956-01-01, from: ET\n",
      "country: South Sudan (SSD)\n",
      "Independence Date: 2011-07-09, from: SUD\n",
      "country: Comoros (COM)\n",
      "Independence Date: 1975-07-06, from: F\n",
      "country: Guinea (RG)\n",
      "Independence Date: 1958-10-02, from: F\n",
      "country: Liberia (LB)\n",
      "Independence Date: 1847-07-26, from: \n",
      "country: Djibouti (DJI)\n",
      "Independence Date: 1977-06-27, from: F\n",
      "country: Eritrea (ER)\n",
      "Independence Date: 1993-05-27, from: ETH\n",
      "country: Ethiopia (ETH)\n",
      "Independence Date: None\n",
      "country: Somalia (SP)\n",
      "Independence Date: 1960-07-01, from: GB\n",
      "country: Kenya (EAK)\n",
      "Independence Date: 1963-12-12, from: GB\n",
      "country: Gambia (WAG)\n",
      "Independence Date: 1965-02-18, from: GB\n",
      "country: Senegal (SN)\n",
      "Independence Date: 1960-08-20, from: F\n",
      "country: Guinea-Bissau (GNB)\n",
      "Independence Date: 1974-09-10, from: P\n",
      "country: Sierra Leone (WAL)\n",
      "Independence Date: 1961-04-27, from: GB\n",
      "country: Uganda (EAU)\n",
      "Independence Date: 1962-10-09, from: GB\n",
      "country: Lesotho (LS)\n",
      "Independence Date: 1966-10-04, from: GB\n",
      "country: Madagascar (RM)\n",
      "Independence Date: 1960-06-26, from: F\n",
      "country: Malawi (MW)\n",
      "Independence Date: 1964-07-06, from: GB\n",
      "country: Mozambique (MOC)\n",
      "Independence Date: 1975-06-25, from: P\n",
      "country: Mauritius (MS)\n",
      "Independence Date: 1968-03-12, from: GB\n",
      "country: Mayotte (MAYO)\n",
      "Independence Date: None\n",
      "country: Swaziland (SD)\n",
      "Independence Date: 1968-09-06, from: GB\n",
      "country: Reunion (REUN)\n",
      "Independence Date: None\n",
      "country: Saint Helena (HELX)\n",
      "Independence Date: None\n",
      "country: Sao Tome and Principe (STP)\n",
      "Independence Date: 1975-07-12, from: P\n",
      "country: Seychelles (SY)\n",
      "Independence Date: 1976-06-29, from: GB\n"
     ]
    }
   ],
   "source": [
    "# Let's look at independence days\n",
    "countries = [child for child in mondial_root if child.tag == 'country'] # get country list\n",
    "for country in countries: # attrib is inside the tag, names are separate tags in the body\n",
    "    print country.tag + ':' , country.find('name').text + ' (' + country.attrib['car_code'] + ')\\n' + 'Independence Date:',\\\n",
    "    country.find('indep_date').text + ', from: '\\\n",
    "    + country.find('indep_date').attrib.get('from', '') if  country.find('indep_date') != None else 'None'"
   ]
  },
  {
   "cell_type": "code",
   "execution_count": 77,
   "metadata": {
    "collapsed": false
   },
   "outputs": [],
   "source": [
    "i_mortality = [(country.find('name').text, float(country.find('infant_mortality').text))\\\n",
    "               for country in countries if (country.find('infant_mortality') != None)]"
   ]
  },
  {
   "cell_type": "code",
   "execution_count": 79,
   "metadata": {
    "collapsed": false
   },
   "outputs": [
    {
     "data": {
      "text/plain": [
       "[('Albania', 13.19),\n",
       " ('Greece', 4.78),\n",
       " ('Macedonia', 7.9),\n",
       " ('Serbia', 6.16),\n",
       " ('Andorra', 3.69),\n",
       " ('France', 3.31),\n",
       " ('Spain', 3.33),\n",
       " ('Austria', 4.16),\n",
       " ('Czech Republic', 2.63),\n",
       " ('Germany', 3.46)]"
      ]
     },
     "execution_count": 79,
     "metadata": {},
     "output_type": "execute_result"
    }
   ],
   "source": [
    "i_mortality[:10]"
   ]
  },
  {
   "cell_type": "code",
   "execution_count": 81,
   "metadata": {
    "collapsed": false
   },
   "outputs": [],
   "source": [
    "i_mortality.sort(key=lambda x: x[1])"
   ]
  },
  {
   "cell_type": "code",
   "execution_count": 82,
   "metadata": {
    "collapsed": false
   },
   "outputs": [
    {
     "data": {
      "text/plain": [
       "[('Monaco', 1.81),\n",
       " ('Japan', 2.13),\n",
       " ('Norway', 2.48),\n",
       " ('Bermuda', 2.48),\n",
       " ('Singapore', 2.53),\n",
       " ('Sweden', 2.6),\n",
       " ('Czech Republic', 2.63),\n",
       " ('Hong Kong', 2.73),\n",
       " ('Macao', 3.13),\n",
       " ('Iceland', 3.15)]"
      ]
     },
     "execution_count": 82,
     "metadata": {},
     "output_type": "execute_result"
    }
   ],
   "source": [
    "a[:10]"
   ]
  },
  {
   "cell_type": "code",
   "execution_count": 89,
   "metadata": {
    "collapsed": false
   },
   "outputs": [],
   "source": [
    "# another way, because I already am missing the nice formatting of Pandas\n",
    "import pandas as pd\n",
    "i_mortality_df = pd.DataFrame(i_mortality,columns=['Country','Infant Mortality Rate'])"
   ]
  },
  {
   "cell_type": "code",
   "execution_count": 88,
   "metadata": {
    "collapsed": false
   },
   "outputs": [
    {
     "data": {
      "text/html": [
       "<div>\n",
       "<table border=\"1\" class=\"dataframe\">\n",
       "  <thead>\n",
       "    <tr style=\"text-align: right;\">\n",
       "      <th></th>\n",
       "      <th>Country</th>\n",
       "      <th>Infant Mortality Rate</th>\n",
       "    </tr>\n",
       "  </thead>\n",
       "  <tbody>\n",
       "    <tr>\n",
       "      <th>0</th>\n",
       "      <td>Monaco</td>\n",
       "      <td>1.81</td>\n",
       "    </tr>\n",
       "    <tr>\n",
       "      <th>1</th>\n",
       "      <td>Japan</td>\n",
       "      <td>2.13</td>\n",
       "    </tr>\n",
       "    <tr>\n",
       "      <th>2</th>\n",
       "      <td>Norway</td>\n",
       "      <td>2.48</td>\n",
       "    </tr>\n",
       "    <tr>\n",
       "      <th>3</th>\n",
       "      <td>Bermuda</td>\n",
       "      <td>2.48</td>\n",
       "    </tr>\n",
       "    <tr>\n",
       "      <th>4</th>\n",
       "      <td>Singapore</td>\n",
       "      <td>2.53</td>\n",
       "    </tr>\n",
       "    <tr>\n",
       "      <th>5</th>\n",
       "      <td>Sweden</td>\n",
       "      <td>2.60</td>\n",
       "    </tr>\n",
       "    <tr>\n",
       "      <th>6</th>\n",
       "      <td>Czech Republic</td>\n",
       "      <td>2.63</td>\n",
       "    </tr>\n",
       "    <tr>\n",
       "      <th>7</th>\n",
       "      <td>Hong Kong</td>\n",
       "      <td>2.73</td>\n",
       "    </tr>\n",
       "    <tr>\n",
       "      <th>8</th>\n",
       "      <td>Macao</td>\n",
       "      <td>3.13</td>\n",
       "    </tr>\n",
       "    <tr>\n",
       "      <th>9</th>\n",
       "      <td>Iceland</td>\n",
       "      <td>3.15</td>\n",
       "    </tr>\n",
       "  </tbody>\n",
       "</table>\n",
       "</div>"
      ],
      "text/plain": [
       "          Country  Infant Mortality Rate\n",
       "0          Monaco                   1.81\n",
       "1           Japan                   2.13\n",
       "2          Norway                   2.48\n",
       "3         Bermuda                   2.48\n",
       "4       Singapore                   2.53\n",
       "5          Sweden                   2.60\n",
       "6  Czech Republic                   2.63\n",
       "7       Hong Kong                   2.73\n",
       "8           Macao                   3.13\n",
       "9         Iceland                   3.15"
      ]
     },
     "execution_count": 88,
     "metadata": {},
     "output_type": "execute_result"
    }
   ],
   "source": [
    "i_mortality_df.head(10)"
   ]
  },
  {
   "cell_type": "code",
   "execution_count": 155,
   "metadata": {
    "collapsed": false
   },
   "outputs": [],
   "source": [
    "ethnic_info = [(country.find('name').text,\\\n",
    "  float(country.findall('population')[-1].text),\\\n",
    " country.findall('ethnicgroup'))\\\n",
    " for country in countries]"
   ]
  },
  {
   "cell_type": "code",
   "execution_count": 156,
   "metadata": {
    "collapsed": false
   },
   "outputs": [],
   "source": [
    "# more transformation: convert elements. Functional programming rules!\n",
    "# concept: the previous returned (country, population, ethnic group XML element objects)\n",
    "# What we need to do is go through each entry, and transform the ethnic group element objects\n",
    "# per country into tuples labeled by country and population (possibly redundantly) \n",
    "ethnic_info_df = pd.DataFrame(reduce(lambda x,y: x+y,\\\n",
    "       map(lambda tup: map(lambda elem: (tup[0],tup[1], elem.text, float(elem.attrib['percentage'])), tup[2]),\\\n",
    "           ethnic_info)),\\\n",
    "             columns=['Country', 'Population', 'Ethnic Group', 'Percentage of Population'])\n"
   ]
  },
  {
   "cell_type": "code",
   "execution_count": 158,
   "metadata": {
    "collapsed": false
   },
   "outputs": [
    {
     "data": {
      "text/html": [
       "<div>\n",
       "<table border=\"1\" class=\"dataframe\">\n",
       "  <thead>\n",
       "    <tr style=\"text-align: right;\">\n",
       "      <th></th>\n",
       "      <th>Country</th>\n",
       "      <th>Population</th>\n",
       "      <th>Ethnic Group</th>\n",
       "      <th>Percentage of Population</th>\n",
       "    </tr>\n",
       "  </thead>\n",
       "  <tbody>\n",
       "    <tr>\n",
       "      <th>0</th>\n",
       "      <td>Albania</td>\n",
       "      <td>2800138</td>\n",
       "      <td>Albanian</td>\n",
       "      <td>95.0</td>\n",
       "    </tr>\n",
       "    <tr>\n",
       "      <th>1</th>\n",
       "      <td>Albania</td>\n",
       "      <td>2800138</td>\n",
       "      <td>Greek</td>\n",
       "      <td>3.0</td>\n",
       "    </tr>\n",
       "    <tr>\n",
       "      <th>2</th>\n",
       "      <td>Greece</td>\n",
       "      <td>10816286</td>\n",
       "      <td>Greek</td>\n",
       "      <td>93.0</td>\n",
       "    </tr>\n",
       "    <tr>\n",
       "      <th>3</th>\n",
       "      <td>Macedonia</td>\n",
       "      <td>2059794</td>\n",
       "      <td>Macedonian</td>\n",
       "      <td>64.2</td>\n",
       "    </tr>\n",
       "    <tr>\n",
       "      <th>4</th>\n",
       "      <td>Macedonia</td>\n",
       "      <td>2059794</td>\n",
       "      <td>Albanian</td>\n",
       "      <td>25.2</td>\n",
       "    </tr>\n",
       "    <tr>\n",
       "      <th>5</th>\n",
       "      <td>Macedonia</td>\n",
       "      <td>2059794</td>\n",
       "      <td>Turkish</td>\n",
       "      <td>3.9</td>\n",
       "    </tr>\n",
       "    <tr>\n",
       "      <th>6</th>\n",
       "      <td>Macedonia</td>\n",
       "      <td>2059794</td>\n",
       "      <td>Gypsy</td>\n",
       "      <td>2.7</td>\n",
       "    </tr>\n",
       "    <tr>\n",
       "      <th>7</th>\n",
       "      <td>Macedonia</td>\n",
       "      <td>2059794</td>\n",
       "      <td>Serb</td>\n",
       "      <td>1.8</td>\n",
       "    </tr>\n",
       "    <tr>\n",
       "      <th>8</th>\n",
       "      <td>Serbia</td>\n",
       "      <td>7120666</td>\n",
       "      <td>Serb</td>\n",
       "      <td>82.9</td>\n",
       "    </tr>\n",
       "    <tr>\n",
       "      <th>9</th>\n",
       "      <td>Serbia</td>\n",
       "      <td>7120666</td>\n",
       "      <td>Montenegrin</td>\n",
       "      <td>0.9</td>\n",
       "    </tr>\n",
       "  </tbody>\n",
       "</table>\n",
       "</div>"
      ],
      "text/plain": [
       "     Country  Population Ethnic Group  Percentage of Population\n",
       "0    Albania     2800138     Albanian                      95.0\n",
       "1    Albania     2800138        Greek                       3.0\n",
       "2     Greece    10816286        Greek                      93.0\n",
       "3  Macedonia     2059794   Macedonian                      64.2\n",
       "4  Macedonia     2059794     Albanian                      25.2\n",
       "5  Macedonia     2059794      Turkish                       3.9\n",
       "6  Macedonia     2059794        Gypsy                       2.7\n",
       "7  Macedonia     2059794         Serb                       1.8\n",
       "8     Serbia     7120666         Serb                      82.9\n",
       "9     Serbia     7120666  Montenegrin                       0.9"
      ]
     },
     "execution_count": 158,
     "metadata": {},
     "output_type": "execute_result"
    }
   ],
   "source": [
    "ethnic_info_df.head(10) # yay, I got it into a data frame!"
   ]
  },
  {
   "cell_type": "code",
   "execution_count": 204,
   "metadata": {
    "collapsed": false
   },
   "outputs": [
    {
     "data": {
      "text/html": [
       "<div>\n",
       "<table border=\"1\" class=\"dataframe\">\n",
       "  <thead>\n",
       "    <tr style=\"text-align: right;\">\n",
       "      <th></th>\n",
       "      <th></th>\n",
       "      <th>Population</th>\n",
       "      <th>Percentage of Population</th>\n",
       "    </tr>\n",
       "    <tr>\n",
       "      <th>Ethnic Group</th>\n",
       "      <th>Country</th>\n",
       "      <th></th>\n",
       "      <th></th>\n",
       "    </tr>\n",
       "  </thead>\n",
       "  <tbody>\n",
       "    <tr>\n",
       "      <th>Albanian</th>\n",
       "      <th>Albania</th>\n",
       "      <td>2800138</td>\n",
       "      <td>95.0</td>\n",
       "    </tr>\n",
       "    <tr>\n",
       "      <th rowspan=\"2\" valign=\"top\">Greek</th>\n",
       "      <th>Albania</th>\n",
       "      <td>2800138</td>\n",
       "      <td>3.0</td>\n",
       "    </tr>\n",
       "    <tr>\n",
       "      <th>Greece</th>\n",
       "      <td>10816286</td>\n",
       "      <td>93.0</td>\n",
       "    </tr>\n",
       "    <tr>\n",
       "      <th>Macedonian</th>\n",
       "      <th>Macedonia</th>\n",
       "      <td>2059794</td>\n",
       "      <td>64.2</td>\n",
       "    </tr>\n",
       "    <tr>\n",
       "      <th>Albanian</th>\n",
       "      <th>Macedonia</th>\n",
       "      <td>2059794</td>\n",
       "      <td>25.2</td>\n",
       "    </tr>\n",
       "    <tr>\n",
       "      <th>Turkish</th>\n",
       "      <th>Macedonia</th>\n",
       "      <td>2059794</td>\n",
       "      <td>3.9</td>\n",
       "    </tr>\n",
       "    <tr>\n",
       "      <th>Gypsy</th>\n",
       "      <th>Macedonia</th>\n",
       "      <td>2059794</td>\n",
       "      <td>2.7</td>\n",
       "    </tr>\n",
       "  </tbody>\n",
       "</table>\n",
       "</div>"
      ],
      "text/plain": [
       "                        Population  Percentage of Population\n",
       "Ethnic Group Country                                        \n",
       "Albanian     Albania       2800138                      95.0\n",
       "Greek        Albania       2800138                       3.0\n",
       "             Greece       10816286                      93.0\n",
       "Macedonian   Macedonia     2059794                      64.2\n",
       "Albanian     Macedonia     2059794                      25.2\n",
       "Turkish      Macedonia     2059794                       3.9\n",
       "Gypsy        Macedonia     2059794                       2.7"
      ]
     },
     "execution_count": 204,
     "metadata": {},
     "output_type": "execute_result"
    }
   ],
   "source": [
    "edf = ethnic_info_df.set_index(['Ethnic Group','Country'])\n",
    "# Now set the index, to group first by ethnic group\n",
    "# and then country\n",
    "edf.head(7)"
   ]
  },
  {
   "cell_type": "code",
   "execution_count": 206,
   "metadata": {
    "collapsed": false
   },
   "outputs": [],
   "source": [
    "# assign the population based on the proportion\n",
    "edf['Group Population']= edf['Population']*edf['Percentage of Population']/100.0"
   ]
  },
  {
   "cell_type": "code",
   "execution_count": 208,
   "metadata": {
    "collapsed": false
   },
   "outputs": [
    {
     "data": {
      "text/html": [
       "<div>\n",
       "<table border=\"1\" class=\"dataframe\">\n",
       "  <thead>\n",
       "    <tr style=\"text-align: right;\">\n",
       "      <th></th>\n",
       "      <th></th>\n",
       "      <th>Population</th>\n",
       "      <th>Percentage of Population</th>\n",
       "      <th>Group Population</th>\n",
       "    </tr>\n",
       "    <tr>\n",
       "      <th>Ethnic Group</th>\n",
       "      <th>Country</th>\n",
       "      <th></th>\n",
       "      <th></th>\n",
       "      <th></th>\n",
       "    </tr>\n",
       "  </thead>\n",
       "  <tbody>\n",
       "    <tr>\n",
       "      <th>Albanian</th>\n",
       "      <th>Albania</th>\n",
       "      <td>2800138</td>\n",
       "      <td>95.0</td>\n",
       "      <td>2660131.100</td>\n",
       "    </tr>\n",
       "    <tr>\n",
       "      <th rowspan=\"2\" valign=\"top\">Greek</th>\n",
       "      <th>Albania</th>\n",
       "      <td>2800138</td>\n",
       "      <td>3.0</td>\n",
       "      <td>84004.140</td>\n",
       "    </tr>\n",
       "    <tr>\n",
       "      <th>Greece</th>\n",
       "      <td>10816286</td>\n",
       "      <td>93.0</td>\n",
       "      <td>10059145.980</td>\n",
       "    </tr>\n",
       "    <tr>\n",
       "      <th>Macedonian</th>\n",
       "      <th>Macedonia</th>\n",
       "      <td>2059794</td>\n",
       "      <td>64.2</td>\n",
       "      <td>1322387.748</td>\n",
       "    </tr>\n",
       "    <tr>\n",
       "      <th>Albanian</th>\n",
       "      <th>Macedonia</th>\n",
       "      <td>2059794</td>\n",
       "      <td>25.2</td>\n",
       "      <td>519068.088</td>\n",
       "    </tr>\n",
       "  </tbody>\n",
       "</table>\n",
       "</div>"
      ],
      "text/plain": [
       "                        Population  Percentage of Population  Group Population\n",
       "Ethnic Group Country                                                          \n",
       "Albanian     Albania       2800138                      95.0       2660131.100\n",
       "Greek        Albania       2800138                       3.0         84004.140\n",
       "             Greece       10816286                      93.0      10059145.980\n",
       "Macedonian   Macedonia     2059794                      64.2       1322387.748\n",
       "Albanian     Macedonia     2059794                      25.2        519068.088"
      ]
     },
     "execution_count": 208,
     "metadata": {},
     "output_type": "execute_result"
    }
   ],
   "source": [
    "edf.head() # it's now correctly grouped, by ethnic group, rather than by country"
   ]
  },
  {
   "cell_type": "code",
   "execution_count": 210,
   "metadata": {
    "collapsed": false
   },
   "outputs": [
    {
     "data": {
      "text/html": [
       "<div>\n",
       "<table border=\"1\" class=\"dataframe\">\n",
       "  <thead>\n",
       "    <tr style=\"text-align: right;\">\n",
       "      <th></th>\n",
       "      <th>Group Population</th>\n",
       "    </tr>\n",
       "    <tr>\n",
       "      <th>Ethnic Group</th>\n",
       "      <th></th>\n",
       "    </tr>\n",
       "  </thead>\n",
       "  <tbody>\n",
       "    <tr>\n",
       "      <th>Han Chinese</th>\n",
       "      <td>1.245059e+09</td>\n",
       "    </tr>\n",
       "    <tr>\n",
       "      <th>Indo-Aryan</th>\n",
       "      <td>8.718156e+08</td>\n",
       "    </tr>\n",
       "    <tr>\n",
       "      <th>European</th>\n",
       "      <td>4.948722e+08</td>\n",
       "    </tr>\n",
       "    <tr>\n",
       "      <th>African</th>\n",
       "      <td>3.183251e+08</td>\n",
       "    </tr>\n",
       "    <tr>\n",
       "      <th>Dravidian</th>\n",
       "      <td>3.027137e+08</td>\n",
       "    </tr>\n",
       "    <tr>\n",
       "      <th>Mestizo</th>\n",
       "      <td>1.577344e+08</td>\n",
       "    </tr>\n",
       "    <tr>\n",
       "      <th>Bengali</th>\n",
       "      <td>1.467769e+08</td>\n",
       "    </tr>\n",
       "    <tr>\n",
       "      <th>Russian</th>\n",
       "      <td>1.318570e+08</td>\n",
       "    </tr>\n",
       "    <tr>\n",
       "      <th>Japanese</th>\n",
       "      <td>1.265342e+08</td>\n",
       "    </tr>\n",
       "    <tr>\n",
       "      <th>Malay</th>\n",
       "      <td>1.219936e+08</td>\n",
       "    </tr>\n",
       "  </tbody>\n",
       "</table>\n",
       "</div>"
      ],
      "text/plain": [
       "              Group Population\n",
       "Ethnic Group                  \n",
       "Han Chinese       1.245059e+09\n",
       "Indo-Aryan        8.718156e+08\n",
       "European          4.948722e+08\n",
       "African           3.183251e+08\n",
       "Dravidian         3.027137e+08\n",
       "Mestizo           1.577344e+08\n",
       "Bengali           1.467769e+08\n",
       "Russian           1.318570e+08\n",
       "Japanese          1.265342e+08\n",
       "Malay             1.219936e+08"
      ]
     },
     "execution_count": 210,
     "metadata": {},
     "output_type": "execute_result"
    }
   ],
   "source": [
    "# now use groupby to compute the sum\n",
    "# first reset index to allow groupby\n",
    "# then drop the now irrelevant columns\n",
    "# group by ethinc group, then sum, and sort on population, and finally take the head\n",
    "edf.reset_index()\\\n",
    ".drop(['Population','Percentage of Population'],axis=1)\\\n",
    ".groupby('Ethnic Group')\\\n",
    ".sum()\\\n",
    ".sort(columns='Group Population',ascending=False)\\\n",
    ".head(10)"
   ]
  },
  {
   "cell_type": "code",
   "execution_count": null,
   "metadata": {
    "collapsed": true
   },
   "outputs": [],
   "source": []
  },
  {
   "cell_type": "code",
   "execution_count": null,
   "metadata": {
    "collapsed": true
   },
   "outputs": [],
   "source": []
  },
  {
   "cell_type": "code",
   "execution_count": null,
   "metadata": {
    "collapsed": true
   },
   "outputs": [],
   "source": []
  },
  {
   "cell_type": "code",
   "execution_count": null,
   "metadata": {
    "collapsed": true
   },
   "outputs": [],
   "source": []
  },
  {
   "cell_type": "code",
   "execution_count": null,
   "metadata": {
    "collapsed": true
   },
   "outputs": [],
   "source": []
  },
  {
   "cell_type": "code",
   "execution_count": null,
   "metadata": {
    "collapsed": true
   },
   "outputs": [],
   "source": []
  }
 ],
 "metadata": {
  "kernelspec": {
   "display_name": "Python 2",
   "language": "python",
   "name": "python2"
  },
  "language_info": {
   "codemirror_mode": {
    "name": "ipython",
    "version": 2
   },
   "file_extension": ".py",
   "mimetype": "text/x-python",
   "name": "python",
   "nbconvert_exporter": "python",
   "pygments_lexer": "ipython2",
   "version": "2.7.11"
  }
 },
 "nbformat": 4,
 "nbformat_minor": 0
}
